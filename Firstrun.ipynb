{
 "cells": [
  {
   "cell_type": "code",
   "execution_count": 1,
   "metadata": {},
   "outputs": [
    {
     "name": "stdout",
     "output_type": "stream",
     "text": [
      "Requirement already satisfied: flask in c:\\users\\anoop\\appdata\\local\\packages\\pythonsoftwarefoundation.python.3.11_qbz5n2kfra8p0\\localcache\\local-packages\\python311\\site-packages (from -r requirements.txt (line 1)) (3.0.0)\n",
      "Requirement already satisfied: tensorflow in c:\\users\\anoop\\appdata\\local\\packages\\pythonsoftwarefoundation.python.3.11_qbz5n2kfra8p0\\localcache\\local-packages\\python311\\site-packages (from -r requirements.txt (line 2)) (2.15.0)\n",
      "Requirement already satisfied: keras in c:\\users\\anoop\\appdata\\local\\packages\\pythonsoftwarefoundation.python.3.11_qbz5n2kfra8p0\\localcache\\local-packages\\python311\\site-packages (from -r requirements.txt (line 3)) (2.15.0)\n",
      "Requirement already satisfied: pillow in c:\\users\\anoop\\appdata\\local\\packages\\pythonsoftwarefoundation.python.3.11_qbz5n2kfra8p0\\localcache\\local-packages\\python311\\site-packages (from -r requirements.txt (line 4)) (10.1.0)\n",
      "Requirement already satisfied: gradio in c:\\users\\anoop\\appdata\\local\\packages\\pythonsoftwarefoundation.python.3.11_qbz5n2kfra8p0\\localcache\\local-packages\\python311\\site-packages (from -r requirements.txt (line 5)) (4.7.1)\n",
      "Requirement already satisfied: streamlit in c:\\users\\anoop\\appdata\\local\\packages\\pythonsoftwarefoundation.python.3.11_qbz5n2kfra8p0\\localcache\\local-packages\\python311\\site-packages (from -r requirements.txt (line 6)) (1.29.0)\n",
      "Requirement already satisfied: Werkzeug>=3.0.0 in c:\\users\\anoop\\appdata\\local\\packages\\pythonsoftwarefoundation.python.3.11_qbz5n2kfra8p0\\localcache\\local-packages\\python311\\site-packages (from flask->-r requirements.txt (line 1)) (3.0.1)\n",
      "Requirement already satisfied: Jinja2>=3.1.2 in c:\\users\\anoop\\appdata\\local\\packages\\pythonsoftwarefoundation.python.3.11_qbz5n2kfra8p0\\localcache\\local-packages\\python311\\site-packages (from flask->-r requirements.txt (line 1)) (3.1.2)\n",
      "Requirement already satisfied: itsdangerous>=2.1.2 in c:\\users\\anoop\\appdata\\local\\packages\\pythonsoftwarefoundation.python.3.11_qbz5n2kfra8p0\\localcache\\local-packages\\python311\\site-packages (from flask->-r requirements.txt (line 1)) (2.1.2)\n",
      "Requirement already satisfied: click>=8.1.3 in c:\\users\\anoop\\appdata\\local\\packages\\pythonsoftwarefoundation.python.3.11_qbz5n2kfra8p0\\localcache\\local-packages\\python311\\site-packages (from flask->-r requirements.txt (line 1)) (8.1.7)\n",
      "Requirement already satisfied: blinker>=1.6.2 in c:\\users\\anoop\\appdata\\local\\packages\\pythonsoftwarefoundation.python.3.11_qbz5n2kfra8p0\\localcache\\local-packages\\python311\\site-packages (from flask->-r requirements.txt (line 1)) (1.7.0)\n",
      "Requirement already satisfied: tensorflow-intel==2.15.0 in c:\\users\\anoop\\appdata\\local\\packages\\pythonsoftwarefoundation.python.3.11_qbz5n2kfra8p0\\localcache\\local-packages\\python311\\site-packages (from tensorflow->-r requirements.txt (line 2)) (2.15.0)\n",
      "Requirement already satisfied: absl-py>=1.0.0 in c:\\users\\anoop\\appdata\\local\\packages\\pythonsoftwarefoundation.python.3.11_qbz5n2kfra8p0\\localcache\\local-packages\\python311\\site-packages (from tensorflow-intel==2.15.0->tensorflow->-r requirements.txt (line 2)) (2.0.0)\n",
      "Requirement already satisfied: astunparse>=1.6.0 in c:\\users\\anoop\\appdata\\local\\packages\\pythonsoftwarefoundation.python.3.11_qbz5n2kfra8p0\\localcache\\local-packages\\python311\\site-packages (from tensorflow-intel==2.15.0->tensorflow->-r requirements.txt (line 2)) (1.6.3)\n",
      "Requirement already satisfied: flatbuffers>=23.5.26 in c:\\users\\anoop\\appdata\\local\\packages\\pythonsoftwarefoundation.python.3.11_qbz5n2kfra8p0\\localcache\\local-packages\\python311\\site-packages (from tensorflow-intel==2.15.0->tensorflow->-r requirements.txt (line 2)) (23.5.26)\n",
      "Requirement already satisfied: gast!=0.5.0,!=0.5.1,!=0.5.2,>=0.2.1 in c:\\users\\anoop\\appdata\\local\\packages\\pythonsoftwarefoundation.python.3.11_qbz5n2kfra8p0\\localcache\\local-packages\\python311\\site-packages (from tensorflow-intel==2.15.0->tensorflow->-r requirements.txt (line 2)) (0.5.4)\n",
      "Requirement already satisfied: google-pasta>=0.1.1 in c:\\users\\anoop\\appdata\\local\\packages\\pythonsoftwarefoundation.python.3.11_qbz5n2kfra8p0\\localcache\\local-packages\\python311\\site-packages (from tensorflow-intel==2.15.0->tensorflow->-r requirements.txt (line 2)) (0.2.0)\n",
      "Requirement already satisfied: h5py>=2.9.0 in c:\\users\\anoop\\appdata\\local\\packages\\pythonsoftwarefoundation.python.3.11_qbz5n2kfra8p0\\localcache\\local-packages\\python311\\site-packages (from tensorflow-intel==2.15.0->tensorflow->-r requirements.txt (line 2)) (3.10.0)\n",
      "Requirement already satisfied: libclang>=13.0.0 in c:\\users\\anoop\\appdata\\local\\packages\\pythonsoftwarefoundation.python.3.11_qbz5n2kfra8p0\\localcache\\local-packages\\python311\\site-packages (from tensorflow-intel==2.15.0->tensorflow->-r requirements.txt (line 2)) (16.0.6)\n",
      "Requirement already satisfied: ml-dtypes~=0.2.0 in c:\\users\\anoop\\appdata\\local\\packages\\pythonsoftwarefoundation.python.3.11_qbz5n2kfra8p0\\localcache\\local-packages\\python311\\site-packages (from tensorflow-intel==2.15.0->tensorflow->-r requirements.txt (line 2)) (0.2.0)\n",
      "Requirement already satisfied: numpy<2.0.0,>=1.23.5 in c:\\users\\anoop\\appdata\\local\\packages\\pythonsoftwarefoundation.python.3.11_qbz5n2kfra8p0\\localcache\\local-packages\\python311\\site-packages (from tensorflow-intel==2.15.0->tensorflow->-r requirements.txt (line 2)) (1.26.2)\n",
      "Requirement already satisfied: opt-einsum>=2.3.2 in c:\\users\\anoop\\appdata\\local\\packages\\pythonsoftwarefoundation.python.3.11_qbz5n2kfra8p0\\localcache\\local-packages\\python311\\site-packages (from tensorflow-intel==2.15.0->tensorflow->-r requirements.txt (line 2)) (3.3.0)\n",
      "Requirement already satisfied: packaging in c:\\users\\anoop\\appdata\\local\\packages\\pythonsoftwarefoundation.python.3.11_qbz5n2kfra8p0\\localcache\\local-packages\\python311\\site-packages (from tensorflow-intel==2.15.0->tensorflow->-r requirements.txt (line 2)) (23.2)\n",
      "Requirement already satisfied: protobuf!=4.21.0,!=4.21.1,!=4.21.2,!=4.21.3,!=4.21.4,!=4.21.5,<5.0.0dev,>=3.20.3 in c:\\users\\anoop\\appdata\\local\\packages\\pythonsoftwarefoundation.python.3.11_qbz5n2kfra8p0\\localcache\\local-packages\\python311\\site-packages (from tensorflow-intel==2.15.0->tensorflow->-r requirements.txt (line 2)) (4.23.4)\n",
      "Requirement already satisfied: setuptools in c:\\program files\\windowsapps\\pythonsoftwarefoundation.python.3.11_3.11.1776.0_x64__qbz5n2kfra8p0\\lib\\site-packages (from tensorflow-intel==2.15.0->tensorflow->-r requirements.txt (line 2)) (65.5.0)\n",
      "Requirement already satisfied: six>=1.12.0 in c:\\users\\anoop\\appdata\\local\\packages\\pythonsoftwarefoundation.python.3.11_qbz5n2kfra8p0\\localcache\\local-packages\\python311\\site-packages (from tensorflow-intel==2.15.0->tensorflow->-r requirements.txt (line 2)) (1.16.0)\n",
      "Requirement already satisfied: termcolor>=1.1.0 in c:\\users\\anoop\\appdata\\local\\packages\\pythonsoftwarefoundation.python.3.11_qbz5n2kfra8p0\\localcache\\local-packages\\python311\\site-packages (from tensorflow-intel==2.15.0->tensorflow->-r requirements.txt (line 2)) (2.3.0)\n",
      "Requirement already satisfied: typing-extensions>=3.6.6 in c:\\users\\anoop\\appdata\\local\\packages\\pythonsoftwarefoundation.python.3.11_qbz5n2kfra8p0\\localcache\\local-packages\\python311\\site-packages (from tensorflow-intel==2.15.0->tensorflow->-r requirements.txt (line 2)) (4.8.0)\n",
      "Requirement already satisfied: wrapt<1.15,>=1.11.0 in c:\\users\\anoop\\appdata\\local\\packages\\pythonsoftwarefoundation.python.3.11_qbz5n2kfra8p0\\localcache\\local-packages\\python311\\site-packages (from tensorflow-intel==2.15.0->tensorflow->-r requirements.txt (line 2)) (1.14.1)\n",
      "Requirement already satisfied: tensorflow-io-gcs-filesystem>=0.23.1 in c:\\users\\anoop\\appdata\\local\\packages\\pythonsoftwarefoundation.python.3.11_qbz5n2kfra8p0\\localcache\\local-packages\\python311\\site-packages (from tensorflow-intel==2.15.0->tensorflow->-r requirements.txt (line 2)) (0.31.0)\n",
      "Requirement already satisfied: grpcio<2.0,>=1.24.3 in c:\\users\\anoop\\appdata\\local\\packages\\pythonsoftwarefoundation.python.3.11_qbz5n2kfra8p0\\localcache\\local-packages\\python311\\site-packages (from tensorflow-intel==2.15.0->tensorflow->-r requirements.txt (line 2)) (1.59.3)\n",
      "Requirement already satisfied: tensorboard<2.16,>=2.15 in c:\\users\\anoop\\appdata\\local\\packages\\pythonsoftwarefoundation.python.3.11_qbz5n2kfra8p0\\localcache\\local-packages\\python311\\site-packages (from tensorflow-intel==2.15.0->tensorflow->-r requirements.txt (line 2)) (2.15.1)\n",
      "Requirement already satisfied: tensorflow-estimator<2.16,>=2.15.0 in c:\\users\\anoop\\appdata\\local\\packages\\pythonsoftwarefoundation.python.3.11_qbz5n2kfra8p0\\localcache\\local-packages\\python311\\site-packages (from tensorflow-intel==2.15.0->tensorflow->-r requirements.txt (line 2)) (2.15.0)\n",
      "Requirement already satisfied: aiofiles<24.0,>=22.0 in c:\\users\\anoop\\appdata\\local\\packages\\pythonsoftwarefoundation.python.3.11_qbz5n2kfra8p0\\localcache\\local-packages\\python311\\site-packages (from gradio->-r requirements.txt (line 5)) (23.2.1)\n",
      "Requirement already satisfied: altair<6.0,>=4.2.0 in c:\\users\\anoop\\appdata\\local\\packages\\pythonsoftwarefoundation.python.3.11_qbz5n2kfra8p0\\localcache\\local-packages\\python311\\site-packages (from gradio->-r requirements.txt (line 5)) (5.2.0)\n",
      "Requirement already satisfied: fastapi in c:\\users\\anoop\\appdata\\local\\packages\\pythonsoftwarefoundation.python.3.11_qbz5n2kfra8p0\\localcache\\local-packages\\python311\\site-packages (from gradio->-r requirements.txt (line 5)) (0.104.1)\n",
      "Requirement already satisfied: ffmpy in c:\\users\\anoop\\appdata\\local\\packages\\pythonsoftwarefoundation.python.3.11_qbz5n2kfra8p0\\localcache\\local-packages\\python311\\site-packages (from gradio->-r requirements.txt (line 5)) (0.3.1)\n",
      "Requirement already satisfied: gradio-client==0.7.0 in c:\\users\\anoop\\appdata\\local\\packages\\pythonsoftwarefoundation.python.3.11_qbz5n2kfra8p0\\localcache\\local-packages\\python311\\site-packages (from gradio->-r requirements.txt (line 5)) (0.7.0)\n",
      "Requirement already satisfied: httpx in c:\\users\\anoop\\appdata\\local\\packages\\pythonsoftwarefoundation.python.3.11_qbz5n2kfra8p0\\localcache\\local-packages\\python311\\site-packages (from gradio->-r requirements.txt (line 5)) (0.25.2)\n",
      "Requirement already satisfied: huggingface-hub>=0.14.0 in c:\\users\\anoop\\appdata\\local\\packages\\pythonsoftwarefoundation.python.3.11_qbz5n2kfra8p0\\localcache\\local-packages\\python311\\site-packages (from gradio->-r requirements.txt (line 5)) (0.19.4)\n",
      "Requirement already satisfied: importlib-resources<7.0,>=1.3 in c:\\users\\anoop\\appdata\\local\\packages\\pythonsoftwarefoundation.python.3.11_qbz5n2kfra8p0\\localcache\\local-packages\\python311\\site-packages (from gradio->-r requirements.txt (line 5)) (6.1.1)\n",
      "Requirement already satisfied: markupsafe~=2.0 in c:\\users\\anoop\\appdata\\local\\packages\\pythonsoftwarefoundation.python.3.11_qbz5n2kfra8p0\\localcache\\local-packages\\python311\\site-packages (from gradio->-r requirements.txt (line 5)) (2.1.3)\n",
      "Requirement already satisfied: matplotlib~=3.0 in c:\\users\\anoop\\appdata\\local\\packages\\pythonsoftwarefoundation.python.3.11_qbz5n2kfra8p0\\localcache\\local-packages\\python311\\site-packages (from gradio->-r requirements.txt (line 5)) (3.8.1)\n",
      "Requirement already satisfied: orjson~=3.0 in c:\\users\\anoop\\appdata\\local\\packages\\pythonsoftwarefoundation.python.3.11_qbz5n2kfra8p0\\localcache\\local-packages\\python311\\site-packages (from gradio->-r requirements.txt (line 5)) (3.9.10)\n",
      "Requirement already satisfied: pandas<3.0,>=1.0 in c:\\users\\anoop\\appdata\\local\\packages\\pythonsoftwarefoundation.python.3.11_qbz5n2kfra8p0\\localcache\\local-packages\\python311\\site-packages (from gradio->-r requirements.txt (line 5)) (2.1.3)\n",
      "Requirement already satisfied: pydantic>=2.0 in c:\\users\\anoop\\appdata\\local\\packages\\pythonsoftwarefoundation.python.3.11_qbz5n2kfra8p0\\localcache\\local-packages\\python311\\site-packages (from gradio->-r requirements.txt (line 5)) (2.5.2)\n",
      "Requirement already satisfied: pydub in c:\\users\\anoop\\appdata\\local\\packages\\pythonsoftwarefoundation.python.3.11_qbz5n2kfra8p0\\localcache\\local-packages\\python311\\site-packages (from gradio->-r requirements.txt (line 5)) (0.25.1)\n",
      "Requirement already satisfied: python-multipart in c:\\users\\anoop\\appdata\\local\\packages\\pythonsoftwarefoundation.python.3.11_qbz5n2kfra8p0\\localcache\\local-packages\\python311\\site-packages (from gradio->-r requirements.txt (line 5)) (0.0.6)\n",
      "Requirement already satisfied: pyyaml<7.0,>=5.0 in c:\\users\\anoop\\appdata\\local\\packages\\pythonsoftwarefoundation.python.3.11_qbz5n2kfra8p0\\localcache\\local-packages\\python311\\site-packages (from gradio->-r requirements.txt (line 5)) (6.0.1)\n",
      "Requirement already satisfied: requests~=2.0 in c:\\users\\anoop\\appdata\\local\\packages\\pythonsoftwarefoundation.python.3.11_qbz5n2kfra8p0\\localcache\\local-packages\\python311\\site-packages (from gradio->-r requirements.txt (line 5)) (2.31.0)\n",
      "Requirement already satisfied: semantic-version~=2.0 in c:\\users\\anoop\\appdata\\local\\packages\\pythonsoftwarefoundation.python.3.11_qbz5n2kfra8p0\\localcache\\local-packages\\python311\\site-packages (from gradio->-r requirements.txt (line 5)) (2.10.0)\n",
      "Requirement already satisfied: tomlkit==0.12.0 in c:\\users\\anoop\\appdata\\local\\packages\\pythonsoftwarefoundation.python.3.11_qbz5n2kfra8p0\\localcache\\local-packages\\python311\\site-packages (from gradio->-r requirements.txt (line 5)) (0.12.0)\n",
      "Requirement already satisfied: typer<1.0,>=0.9 in c:\\users\\anoop\\appdata\\local\\packages\\pythonsoftwarefoundation.python.3.11_qbz5n2kfra8p0\\localcache\\local-packages\\python311\\site-packages (from typer[all]<1.0,>=0.9->gradio->-r requirements.txt (line 5)) (0.9.0)\n",
      "Requirement already satisfied: uvicorn>=0.14.0 in c:\\users\\anoop\\appdata\\local\\packages\\pythonsoftwarefoundation.python.3.11_qbz5n2kfra8p0\\localcache\\local-packages\\python311\\site-packages (from gradio->-r requirements.txt (line 5)) (0.24.0.post1)\n",
      "Requirement already satisfied: fsspec in c:\\users\\anoop\\appdata\\local\\packages\\pythonsoftwarefoundation.python.3.11_qbz5n2kfra8p0\\localcache\\local-packages\\python311\\site-packages (from gradio-client==0.7.0->gradio->-r requirements.txt (line 5)) (2023.10.0)\n",
      "Requirement already satisfied: websockets<12.0,>=10.0 in c:\\users\\anoop\\appdata\\local\\packages\\pythonsoftwarefoundation.python.3.11_qbz5n2kfra8p0\\localcache\\local-packages\\python311\\site-packages (from gradio-client==0.7.0->gradio->-r requirements.txt (line 5)) (11.0.3)\n",
      "Requirement already satisfied: cachetools<6,>=4.0 in c:\\users\\anoop\\appdata\\local\\packages\\pythonsoftwarefoundation.python.3.11_qbz5n2kfra8p0\\localcache\\local-packages\\python311\\site-packages (from streamlit->-r requirements.txt (line 6)) (5.3.2)\n",
      "Requirement already satisfied: importlib-metadata<7,>=1.4 in c:\\users\\anoop\\appdata\\local\\packages\\pythonsoftwarefoundation.python.3.11_qbz5n2kfra8p0\\localcache\\local-packages\\python311\\site-packages (from streamlit->-r requirements.txt (line 6)) (6.9.0)\n",
      "Requirement already satisfied: pyarrow>=6.0 in c:\\users\\anoop\\appdata\\local\\packages\\pythonsoftwarefoundation.python.3.11_qbz5n2kfra8p0\\localcache\\local-packages\\python311\\site-packages (from streamlit->-r requirements.txt (line 6)) (14.0.1)\n",
      "Requirement already satisfied: python-dateutil<3,>=2.7.3 in c:\\users\\anoop\\appdata\\local\\packages\\pythonsoftwarefoundation.python.3.11_qbz5n2kfra8p0\\localcache\\local-packages\\python311\\site-packages (from streamlit->-r requirements.txt (line 6)) (2.8.2)\n",
      "Requirement already satisfied: rich<14,>=10.14.0 in c:\\users\\anoop\\appdata\\local\\packages\\pythonsoftwarefoundation.python.3.11_qbz5n2kfra8p0\\localcache\\local-packages\\python311\\site-packages (from streamlit->-r requirements.txt (line 6)) (13.7.0)\n",
      "Requirement already satisfied: tenacity<9,>=8.1.0 in c:\\users\\anoop\\appdata\\local\\packages\\pythonsoftwarefoundation.python.3.11_qbz5n2kfra8p0\\localcache\\local-packages\\python311\\site-packages (from streamlit->-r requirements.txt (line 6)) (8.2.3)\n",
      "Requirement already satisfied: toml<2,>=0.10.1 in c:\\users\\anoop\\appdata\\local\\packages\\pythonsoftwarefoundation.python.3.11_qbz5n2kfra8p0\\localcache\\local-packages\\python311\\site-packages (from streamlit->-r requirements.txt (line 6)) (0.10.2)\n",
      "Requirement already satisfied: tzlocal<6,>=1.1 in c:\\users\\anoop\\appdata\\local\\packages\\pythonsoftwarefoundation.python.3.11_qbz5n2kfra8p0\\localcache\\local-packages\\python311\\site-packages (from streamlit->-r requirements.txt (line 6)) (5.2)\n",
      "Requirement already satisfied: validators<1,>=0.2 in c:\\users\\anoop\\appdata\\local\\packages\\pythonsoftwarefoundation.python.3.11_qbz5n2kfra8p0\\localcache\\local-packages\\python311\\site-packages (from streamlit->-r requirements.txt (line 6)) (0.22.0)\n",
      "Requirement already satisfied: gitpython!=3.1.19,<4,>=3.0.7 in c:\\users\\anoop\\appdata\\local\\packages\\pythonsoftwarefoundation.python.3.11_qbz5n2kfra8p0\\localcache\\local-packages\\python311\\site-packages (from streamlit->-r requirements.txt (line 6)) (3.1.40)\n",
      "Requirement already satisfied: pydeck<1,>=0.8.0b4 in c:\\users\\anoop\\appdata\\local\\packages\\pythonsoftwarefoundation.python.3.11_qbz5n2kfra8p0\\localcache\\local-packages\\python311\\site-packages (from streamlit->-r requirements.txt (line 6)) (0.8.1b0)\n",
      "Requirement already satisfied: tornado<7,>=6.0.3 in c:\\users\\anoop\\appdata\\local\\packages\\pythonsoftwarefoundation.python.3.11_qbz5n2kfra8p0\\localcache\\local-packages\\python311\\site-packages (from streamlit->-r requirements.txt (line 6)) (6.3.3)\n",
      "Requirement already satisfied: watchdog>=2.1.5 in c:\\users\\anoop\\appdata\\local\\packages\\pythonsoftwarefoundation.python.3.11_qbz5n2kfra8p0\\localcache\\local-packages\\python311\\site-packages (from streamlit->-r requirements.txt (line 6)) (3.0.0)\n",
      "Requirement already satisfied: jsonschema>=3.0 in c:\\users\\anoop\\appdata\\local\\packages\\pythonsoftwarefoundation.python.3.11_qbz5n2kfra8p0\\localcache\\local-packages\\python311\\site-packages (from altair<6.0,>=4.2.0->gradio->-r requirements.txt (line 5)) (4.19.2)\n",
      "Requirement already satisfied: toolz in c:\\users\\anoop\\appdata\\local\\packages\\pythonsoftwarefoundation.python.3.11_qbz5n2kfra8p0\\localcache\\local-packages\\python311\\site-packages (from altair<6.0,>=4.2.0->gradio->-r requirements.txt (line 5)) (0.12.0)\n",
      "Requirement already satisfied: colorama in c:\\users\\anoop\\appdata\\local\\packages\\pythonsoftwarefoundation.python.3.11_qbz5n2kfra8p0\\localcache\\local-packages\\python311\\site-packages (from click>=8.1.3->flask->-r requirements.txt (line 1)) (0.4.6)\n",
      "Requirement already satisfied: gitdb<5,>=4.0.1 in c:\\users\\anoop\\appdata\\local\\packages\\pythonsoftwarefoundation.python.3.11_qbz5n2kfra8p0\\localcache\\local-packages\\python311\\site-packages (from gitpython!=3.1.19,<4,>=3.0.7->streamlit->-r requirements.txt (line 6)) (4.0.11)\n",
      "Requirement already satisfied: filelock in c:\\users\\anoop\\appdata\\local\\packages\\pythonsoftwarefoundation.python.3.11_qbz5n2kfra8p0\\localcache\\local-packages\\python311\\site-packages (from huggingface-hub>=0.14.0->gradio->-r requirements.txt (line 5)) (3.13.1)\n",
      "Requirement already satisfied: tqdm>=4.42.1 in c:\\users\\anoop\\appdata\\local\\packages\\pythonsoftwarefoundation.python.3.11_qbz5n2kfra8p0\\localcache\\local-packages\\python311\\site-packages (from huggingface-hub>=0.14.0->gradio->-r requirements.txt (line 5)) (4.66.1)\n",
      "Requirement already satisfied: zipp>=0.5 in c:\\users\\anoop\\appdata\\local\\packages\\pythonsoftwarefoundation.python.3.11_qbz5n2kfra8p0\\localcache\\local-packages\\python311\\site-packages (from importlib-metadata<7,>=1.4->streamlit->-r requirements.txt (line 6)) (3.17.0)\n",
      "Requirement already satisfied: contourpy>=1.0.1 in c:\\users\\anoop\\appdata\\local\\packages\\pythonsoftwarefoundation.python.3.11_qbz5n2kfra8p0\\localcache\\local-packages\\python311\\site-packages (from matplotlib~=3.0->gradio->-r requirements.txt (line 5)) (1.2.0)\n",
      "Requirement already satisfied: cycler>=0.10 in c:\\users\\anoop\\appdata\\local\\packages\\pythonsoftwarefoundation.python.3.11_qbz5n2kfra8p0\\localcache\\local-packages\\python311\\site-packages (from matplotlib~=3.0->gradio->-r requirements.txt (line 5)) (0.12.1)\n",
      "Requirement already satisfied: fonttools>=4.22.0 in c:\\users\\anoop\\appdata\\local\\packages\\pythonsoftwarefoundation.python.3.11_qbz5n2kfra8p0\\localcache\\local-packages\\python311\\site-packages (from matplotlib~=3.0->gradio->-r requirements.txt (line 5)) (4.44.1)\n",
      "Requirement already satisfied: kiwisolver>=1.3.1 in c:\\users\\anoop\\appdata\\local\\packages\\pythonsoftwarefoundation.python.3.11_qbz5n2kfra8p0\\localcache\\local-packages\\python311\\site-packages (from matplotlib~=3.0->gradio->-r requirements.txt (line 5)) (1.4.5)\n",
      "Requirement already satisfied: pyparsing>=2.3.1 in c:\\users\\anoop\\appdata\\local\\packages\\pythonsoftwarefoundation.python.3.11_qbz5n2kfra8p0\\localcache\\local-packages\\python311\\site-packages (from matplotlib~=3.0->gradio->-r requirements.txt (line 5)) (3.1.1)\n",
      "Requirement already satisfied: pytz>=2020.1 in c:\\users\\anoop\\appdata\\local\\packages\\pythonsoftwarefoundation.python.3.11_qbz5n2kfra8p0\\localcache\\local-packages\\python311\\site-packages (from pandas<3.0,>=1.0->gradio->-r requirements.txt (line 5)) (2023.3.post1)\n",
      "Requirement already satisfied: tzdata>=2022.1 in c:\\users\\anoop\\appdata\\local\\packages\\pythonsoftwarefoundation.python.3.11_qbz5n2kfra8p0\\localcache\\local-packages\\python311\\site-packages (from pandas<3.0,>=1.0->gradio->-r requirements.txt (line 5)) (2023.3)\n",
      "Requirement already satisfied: annotated-types>=0.4.0 in c:\\users\\anoop\\appdata\\local\\packages\\pythonsoftwarefoundation.python.3.11_qbz5n2kfra8p0\\localcache\\local-packages\\python311\\site-packages (from pydantic>=2.0->gradio->-r requirements.txt (line 5)) (0.6.0)\n",
      "Requirement already satisfied: pydantic-core==2.14.5 in c:\\users\\anoop\\appdata\\local\\packages\\pythonsoftwarefoundation.python.3.11_qbz5n2kfra8p0\\localcache\\local-packages\\python311\\site-packages (from pydantic>=2.0->gradio->-r requirements.txt (line 5)) (2.14.5)\n",
      "Requirement already satisfied: charset-normalizer<4,>=2 in c:\\users\\anoop\\appdata\\local\\packages\\pythonsoftwarefoundation.python.3.11_qbz5n2kfra8p0\\localcache\\local-packages\\python311\\site-packages (from requests~=2.0->gradio->-r requirements.txt (line 5)) (3.3.2)\n",
      "Requirement already satisfied: idna<4,>=2.5 in c:\\users\\anoop\\appdata\\local\\packages\\pythonsoftwarefoundation.python.3.11_qbz5n2kfra8p0\\localcache\\local-packages\\python311\\site-packages (from requests~=2.0->gradio->-r requirements.txt (line 5)) (3.4)\n",
      "Requirement already satisfied: urllib3<3,>=1.21.1 in c:\\users\\anoop\\appdata\\local\\packages\\pythonsoftwarefoundation.python.3.11_qbz5n2kfra8p0\\localcache\\local-packages\\python311\\site-packages (from requests~=2.0->gradio->-r requirements.txt (line 5)) (2.1.0)\n",
      "Requirement already satisfied: certifi>=2017.4.17 in c:\\users\\anoop\\appdata\\local\\packages\\pythonsoftwarefoundation.python.3.11_qbz5n2kfra8p0\\localcache\\local-packages\\python311\\site-packages (from requests~=2.0->gradio->-r requirements.txt (line 5)) (2023.7.22)\n",
      "Requirement already satisfied: markdown-it-py>=2.2.0 in c:\\users\\anoop\\appdata\\local\\packages\\pythonsoftwarefoundation.python.3.11_qbz5n2kfra8p0\\localcache\\local-packages\\python311\\site-packages (from rich<14,>=10.14.0->streamlit->-r requirements.txt (line 6)) (3.0.0)\n",
      "Requirement already satisfied: pygments<3.0.0,>=2.13.0 in c:\\users\\anoop\\appdata\\local\\packages\\pythonsoftwarefoundation.python.3.11_qbz5n2kfra8p0\\localcache\\local-packages\\python311\\site-packages (from rich<14,>=10.14.0->streamlit->-r requirements.txt (line 6)) (2.16.1)\n",
      "Requirement already satisfied: shellingham<2.0.0,>=1.3.0 in c:\\users\\anoop\\appdata\\local\\packages\\pythonsoftwarefoundation.python.3.11_qbz5n2kfra8p0\\localcache\\local-packages\\python311\\site-packages (from typer[all]<1.0,>=0.9->gradio->-r requirements.txt (line 5)) (1.5.4)\n",
      "Requirement already satisfied: h11>=0.8 in c:\\users\\anoop\\appdata\\local\\packages\\pythonsoftwarefoundation.python.3.11_qbz5n2kfra8p0\\localcache\\local-packages\\python311\\site-packages (from uvicorn>=0.14.0->gradio->-r requirements.txt (line 5)) (0.14.0)\n",
      "Requirement already satisfied: anyio<4.0.0,>=3.7.1 in c:\\users\\anoop\\appdata\\local\\packages\\pythonsoftwarefoundation.python.3.11_qbz5n2kfra8p0\\localcache\\local-packages\\python311\\site-packages (from fastapi->gradio->-r requirements.txt (line 5)) (3.7.1)\n",
      "Requirement already satisfied: starlette<0.28.0,>=0.27.0 in c:\\users\\anoop\\appdata\\local\\packages\\pythonsoftwarefoundation.python.3.11_qbz5n2kfra8p0\\localcache\\local-packages\\python311\\site-packages (from fastapi->gradio->-r requirements.txt (line 5)) (0.27.0)\n",
      "Requirement already satisfied: httpcore==1.* in c:\\users\\anoop\\appdata\\local\\packages\\pythonsoftwarefoundation.python.3.11_qbz5n2kfra8p0\\localcache\\local-packages\\python311\\site-packages (from httpx->gradio->-r requirements.txt (line 5)) (1.0.2)\n",
      "Requirement already satisfied: sniffio in c:\\users\\anoop\\appdata\\local\\packages\\pythonsoftwarefoundation.python.3.11_qbz5n2kfra8p0\\localcache\\local-packages\\python311\\site-packages (from httpx->gradio->-r requirements.txt (line 5)) (1.3.0)\n",
      "Requirement already satisfied: wheel<1.0,>=0.23.0 in c:\\users\\anoop\\appdata\\local\\packages\\pythonsoftwarefoundation.python.3.11_qbz5n2kfra8p0\\localcache\\local-packages\\python311\\site-packages (from astunparse>=1.6.0->tensorflow-intel==2.15.0->tensorflow->-r requirements.txt (line 2)) (0.41.3)\n",
      "Requirement already satisfied: smmap<6,>=3.0.1 in c:\\users\\anoop\\appdata\\local\\packages\\pythonsoftwarefoundation.python.3.11_qbz5n2kfra8p0\\localcache\\local-packages\\python311\\site-packages (from gitdb<5,>=4.0.1->gitpython!=3.1.19,<4,>=3.0.7->streamlit->-r requirements.txt (line 6)) (5.0.1)\n",
      "Requirement already satisfied: attrs>=22.2.0 in c:\\users\\anoop\\appdata\\local\\packages\\pythonsoftwarefoundation.python.3.11_qbz5n2kfra8p0\\localcache\\local-packages\\python311\\site-packages (from jsonschema>=3.0->altair<6.0,>=4.2.0->gradio->-r requirements.txt (line 5)) (23.1.0)\n",
      "Requirement already satisfied: jsonschema-specifications>=2023.03.6 in c:\\users\\anoop\\appdata\\local\\packages\\pythonsoftwarefoundation.python.3.11_qbz5n2kfra8p0\\localcache\\local-packages\\python311\\site-packages (from jsonschema>=3.0->altair<6.0,>=4.2.0->gradio->-r requirements.txt (line 5)) (2023.7.1)\n",
      "Requirement already satisfied: referencing>=0.28.4 in c:\\users\\anoop\\appdata\\local\\packages\\pythonsoftwarefoundation.python.3.11_qbz5n2kfra8p0\\localcache\\local-packages\\python311\\site-packages (from jsonschema>=3.0->altair<6.0,>=4.2.0->gradio->-r requirements.txt (line 5)) (0.30.2)\n",
      "Requirement already satisfied: rpds-py>=0.7.1 in c:\\users\\anoop\\appdata\\local\\packages\\pythonsoftwarefoundation.python.3.11_qbz5n2kfra8p0\\localcache\\local-packages\\python311\\site-packages (from jsonschema>=3.0->altair<6.0,>=4.2.0->gradio->-r requirements.txt (line 5)) (0.12.0)\n",
      "Requirement already satisfied: mdurl~=0.1 in c:\\users\\anoop\\appdata\\local\\packages\\pythonsoftwarefoundation.python.3.11_qbz5n2kfra8p0\\localcache\\local-packages\\python311\\site-packages (from markdown-it-py>=2.2.0->rich<14,>=10.14.0->streamlit->-r requirements.txt (line 6)) (0.1.2)\n",
      "Requirement already satisfied: google-auth<3,>=1.6.3 in c:\\users\\anoop\\appdata\\local\\packages\\pythonsoftwarefoundation.python.3.11_qbz5n2kfra8p0\\localcache\\local-packages\\python311\\site-packages (from tensorboard<2.16,>=2.15->tensorflow-intel==2.15.0->tensorflow->-r requirements.txt (line 2)) (2.23.4)\n",
      "Requirement already satisfied: google-auth-oauthlib<2,>=0.5 in c:\\users\\anoop\\appdata\\local\\packages\\pythonsoftwarefoundation.python.3.11_qbz5n2kfra8p0\\localcache\\local-packages\\python311\\site-packages (from tensorboard<2.16,>=2.15->tensorflow-intel==2.15.0->tensorflow->-r requirements.txt (line 2)) (1.1.0)\n",
      "Requirement already satisfied: markdown>=2.6.8 in c:\\users\\anoop\\appdata\\local\\packages\\pythonsoftwarefoundation.python.3.11_qbz5n2kfra8p0\\localcache\\local-packages\\python311\\site-packages (from tensorboard<2.16,>=2.15->tensorflow-intel==2.15.0->tensorflow->-r requirements.txt (line 2)) (3.5.1)\n",
      "Requirement already satisfied: tensorboard-data-server<0.8.0,>=0.7.0 in c:\\users\\anoop\\appdata\\local\\packages\\pythonsoftwarefoundation.python.3.11_qbz5n2kfra8p0\\localcache\\local-packages\\python311\\site-packages (from tensorboard<2.16,>=2.15->tensorflow-intel==2.15.0->tensorflow->-r requirements.txt (line 2)) (0.7.2)\n",
      "Requirement already satisfied: pyasn1-modules>=0.2.1 in c:\\users\\anoop\\appdata\\local\\packages\\pythonsoftwarefoundation.python.3.11_qbz5n2kfra8p0\\localcache\\local-packages\\python311\\site-packages (from google-auth<3,>=1.6.3->tensorboard<2.16,>=2.15->tensorflow-intel==2.15.0->tensorflow->-r requirements.txt (line 2)) (0.3.0)\n",
      "Requirement already satisfied: rsa<5,>=3.1.4 in c:\\users\\anoop\\appdata\\local\\packages\\pythonsoftwarefoundation.python.3.11_qbz5n2kfra8p0\\localcache\\local-packages\\python311\\site-packages (from google-auth<3,>=1.6.3->tensorboard<2.16,>=2.15->tensorflow-intel==2.15.0->tensorflow->-r requirements.txt (line 2)) (4.9)\n",
      "Requirement already satisfied: requests-oauthlib>=0.7.0 in c:\\users\\anoop\\appdata\\local\\packages\\pythonsoftwarefoundation.python.3.11_qbz5n2kfra8p0\\localcache\\local-packages\\python311\\site-packages (from google-auth-oauthlib<2,>=0.5->tensorboard<2.16,>=2.15->tensorflow-intel==2.15.0->tensorflow->-r requirements.txt (line 2)) (1.3.1)\n",
      "Requirement already satisfied: pyasn1<0.6.0,>=0.4.6 in c:\\users\\anoop\\appdata\\local\\packages\\pythonsoftwarefoundation.python.3.11_qbz5n2kfra8p0\\localcache\\local-packages\\python311\\site-packages (from pyasn1-modules>=0.2.1->google-auth<3,>=1.6.3->tensorboard<2.16,>=2.15->tensorflow-intel==2.15.0->tensorflow->-r requirements.txt (line 2)) (0.5.0)\n",
      "Requirement already satisfied: oauthlib>=3.0.0 in c:\\users\\anoop\\appdata\\local\\packages\\pythonsoftwarefoundation.python.3.11_qbz5n2kfra8p0\\localcache\\local-packages\\python311\\site-packages (from requests-oauthlib>=0.7.0->google-auth-oauthlib<2,>=0.5->tensorboard<2.16,>=2.15->tensorflow-intel==2.15.0->tensorflow->-r requirements.txt (line 2)) (3.2.2)\n"
     ]
    }
   ],
   "source": [
    "!pip install -r requirements.txt"
   ]
  },
  {
   "cell_type": "code",
   "execution_count": 2,
   "metadata": {
    "id": "nO6giezOByTu"
   },
   "outputs": [
    {
     "name": "stdout",
     "output_type": "stream",
     "text": [
      "WARNING:tensorflow:From C:\\Users\\anoop\\AppData\\Local\\Packages\\PythonSoftwareFoundation.Python.3.11_qbz5n2kfra8p0\\LocalCache\\local-packages\\Python311\\site-packages\\keras\\src\\losses.py:2976: The name tf.losses.sparse_softmax_cross_entropy is deprecated. Please use tf.compat.v1.losses.sparse_softmax_cross_entropy instead.\n",
      "\n"
     ]
    }
   ],
   "source": [
    "import tensorflow as tf\n",
    "from tensorflow.keras import layers, models\n",
    "from tensorflow.keras.datasets import mnist\n",
    "from tensorflow.keras.utils import to_categorical\n",
    "from keras.models import Sequential\n",
    "from tensorflow.keras.layers import Dense"
   ]
  },
  {
   "cell_type": "code",
   "execution_count": 3,
   "metadata": {
    "id": "8kmFzBzBCttU"
   },
   "outputs": [],
   "source": [
    "(x_train, y_train), (x_test, y_test) = mnist.load_data()"
   ]
  },
  {
   "cell_type": "code",
   "execution_count": 4,
   "metadata": {
    "colab": {
     "base_uri": "https://localhost:8080/",
     "height": 452
    },
    "id": "kFuAu7rJC0RR",
    "outputId": "44706f67-3ea9-4b81-ec48-16bd4099fd74"
   },
   "outputs": [
    {
     "data": {
      "image/png": "[encoded data removed]",
      "text/plain": [
       "<Figure size 640x480 with 9 Axes>"
      ]
     },
     "metadata": {},
     "output_type": "display_data"
    }
   ],
   "source": [
    "import matplotlib.pyplot as plt\n",
    "for i in range(9):\n",
    "    plt.subplot(3,3,i+1)\n",
    "    plt.imshow(x_train[i])\n",
    "    plt.title(\"Class {}\".format(y_train[i]))"
   ]
  },
  {
   "cell_type": "code",
   "execution_count": 5,
   "metadata": {
    "id": "XpoQnwnVDi9j"
   },
   "outputs": [],
   "source": [
    "x_train = x_train.reshape((60000, 28, 28, 1)).astype('float32') / 255\n",
    "x_test = x_test.reshape((10000, 28, 28, 1)).astype('float32')/255"
   ]
  },
  {
   "cell_type": "code",
   "execution_count": 6,
   "metadata": {
    "id": "jA31LXQKGD76"
   },
   "outputs": [],
   "source": [
    "n_class = 10\n",
    "y_train = to_categorical(y_train, n_class)\n",
    "y_test = to_categorical(y_test,n_class)"
   ]
  },
  {
   "cell_type": "code",
   "execution_count": 7,
   "metadata": {
    "colab": {
     "base_uri": "https://localhost:8080/"
    },
    "id": "kxGdk_ohGbY7",
    "outputId": "ca8e4429-ce13-4596-8aa3-8fd841c7e9ef"
   },
   "outputs": [
    {
     "name": "stdout",
     "output_type": "stream",
     "text": [
      "WARNING:tensorflow:From C:\\Users\\anoop\\AppData\\Local\\Packages\\PythonSoftwareFoundation.Python.3.11_qbz5n2kfra8p0\\LocalCache\\local-packages\\Python311\\site-packages\\keras\\src\\backend.py:873: The name tf.get_default_graph is deprecated. Please use tf.compat.v1.get_default_graph instead.\n",
      "\n",
      "WARNING:tensorflow:From C:\\Users\\anoop\\AppData\\Local\\Packages\\PythonSoftwareFoundation.Python.3.11_qbz5n2kfra8p0\\LocalCache\\local-packages\\Python311\\site-packages\\keras\\src\\optimizers\\__init__.py:309: The name tf.train.Optimizer is deprecated. Please use tf.compat.v1.train.Optimizer instead.\n",
      "\n",
      "Model: \"sequential\"\n",
      "_________________________________________________________________\n",
      " Layer (type)                Output Shape              Param #   \n",
      "=================================================================\n",
      " flatten (Flatten)           (None, 784)               0         \n",
      "                                                                 \n",
      " dense (Dense)               (None, 128)               100480    \n",
      "                                                                 \n",
      " dense_1 (Dense)             (None, 10)                1290      \n",
      "                                                                 \n",
      "=================================================================\n",
      "Total params: 101770 (397.54 KB)\n",
      "Trainable params: 101770 (397.54 KB)\n",
      "Non-trainable params: 0 (0.00 Byte)\n",
      "_________________________________________________________________\n"
     ]
    }
   ],
   "source": [
    "# Define and compile the model\n",
    "model = Sequential()\n",
    "model.add(layers.Flatten(input_shape=(28, 28, 1)))  # Input layer\n",
    "model.add(layers.Dense(128, activation='relu'))  # Hidden layers\n",
    "model.add(layers.Dense(10, activation='softmax'))  # Output layer\n",
    "model.compile(optimizer='adam', loss='categorical_crossentropy', metrics=['accuracy'])\n",
    "model.summary()"
   ]
  },
  {
   "cell_type": "code",
   "execution_count": 8,
   "metadata": {
    "id": "nf4isa93nlbq"
   },
   "outputs": [
    {
     "name": "stdout",
     "output_type": "stream",
     "text": [
      "WARNING:tensorflow:From C:\\Users\\anoop\\AppData\\Local\\Packages\\PythonSoftwareFoundation.Python.3.11_qbz5n2kfra8p0\\LocalCache\\local-packages\\Python311\\site-packages\\keras\\src\\utils\\tf_utils.py:492: The name tf.ragged.RaggedTensorValue is deprecated. Please use tf.compat.v1.ragged.RaggedTensorValue instead.\n",
      "\n",
      "WARNING:tensorflow:From C:\\Users\\anoop\\AppData\\Local\\Packages\\PythonSoftwareFoundation.Python.3.11_qbz5n2kfra8p0\\LocalCache\\local-packages\\Python311\\site-packages\\keras\\src\\engine\\base_layer_utils.py:384: The name tf.executing_eagerly_outside_functions is deprecated. Please use tf.compat.v1.executing_eagerly_outside_functions instead.\n",
      "\n"
     ]
    }
   ],
   "source": [
    "# Train the model\n",
    "history = model.fit(x_train, y_train, epochs=10, batch_size=10, validation_data=(x_test, y_test),verbose=0)"
   ]
  },
  {
   "cell_type": "code",
   "execution_count": 9,
   "metadata": {
    "colab": {
     "base_uri": "https://localhost:8080/"
    },
    "id": "2rwwy4uFpEVW",
    "outputId": "abdfe56d-4fe2-4cc9-9cf3-aa62042dd6c7"
   },
   "outputs": [
    {
     "name": "stdout",
     "output_type": "stream",
     "text": [
      "313/313 [==============================] - 1s 1ms/step - loss: 0.0973 - accuracy: 0.9790\n",
      "Test accuracy: 0.9789999723434448\n"
     ]
    }
   ],
   "source": [
    "#Evaluate the model on the test set\n",
    "test_loss, test_acc = model.evaluate(x_test, y_test)\n",
    "print(f'Test accuracy: {test_acc}')"
   ]
  },
  {
   "cell_type": "code",
   "execution_count": 10,
   "metadata": {
    "colab": {
     "base_uri": "https://localhost:8080/"
    },
    "id": "MS3Uif4PpGN9",
    "outputId": "512395ed-7674-41ed-eb6a-5dd6c4551ec0"
   },
   "outputs": [
    {
     "name": "stdout",
     "output_type": "stream",
     "text": [
      "Training Score: 0.0088\n",
      "Training Accuracy: 0.9971\n"
     ]
    }
   ],
   "source": [
    "accuracy = model.evaluate(x_train, y_train, verbose=False)\n",
    "print(\"Training Score: {:.4f}\".format(accuracy[0]))\n",
    "print(\"Training Accuracy: {:.4f}\".format(accuracy[1]))"
   ]
  },
  {
   "cell_type": "code",
   "execution_count": 11,
   "metadata": {
    "colab": {
     "base_uri": "https://localhost:8080/",
     "height": 676
    },
    "id": "YCaKCb9fpIbQ",
    "outputId": "9238fdb4-a9a2-40f6-c78f-3e535889c3e3"
   },
   "outputs": [
    {
     "data": {
      "image/png": "[encoded data removed]",
      "text/plain": [
       "<Figure size 1600x800 with 2 Axes>"
      ]
     },
     "metadata": {},
     "output_type": "display_data"
    }
   ],
   "source": [
    "fig, ax = plt.subplots(1,2, figsize=(16,8))\n",
    "ax[0].plot(history.history['loss'], color='b', label=\"Training loss\")\n",
    "ax[0].plot(history.history['val_loss'], color='r', label=\"validation loss\")\n",
    "legend = ax[0].legend(loc='best', shadow=True)\n",
    "ax[1].plot(history.history['accuracy'], color='b', label=\"Training accuracy\")\n",
    "ax[1].plot(history.history['val_accuracy'], color='r',label=\"Validation accuracy\")\n",
    "legend = ax[1].legend(loc='best',shadow=True)"
   ]
  },
  {
   "cell_type": "code",
   "execution_count": 12,
   "metadata": {
    "colab": {
     "base_uri": "https://localhost:8080/"
    },
    "id": "Bt5MMDu5pRbp",
    "outputId": "fd13a72c-88ea-405f-c8de-6c4c51d1948e"
   },
   "outputs": [
    {
     "name": "stdout",
     "output_type": "stream",
     "text": [
      "313/313 [==============================] - 0s 1ms/step\n"
     ]
    }
   ],
   "source": [
    "predictions = model.predict(x_test)"
   ]
  },
  {
   "cell_type": "code",
   "execution_count": 13,
   "metadata": {
    "colab": {
     "base_uri": "https://localhost:8080/"
    },
    "id": "sx0C6gUCpSXG",
    "outputId": "36679d39-589f-4f25-a2ff-d8d48f43544f"
   },
   "outputs": [
    {
     "name": "stdout",
     "output_type": "stream",
     "text": [
      "[[ 970    0    1    2    0    0    3    0    3    1]\n",
      " [   0 1124    2    1    0    1    1    1    5    0]\n",
      " [   3    0 1015    5    1    0    1    3    4    0]\n",
      " [   2    0    3  998    0    3    0    2    1    1]\n",
      " [   2    1    4    0  950    1    3    4    3   14]\n",
      " [   2    0    0   18    0  865    2    1    4    0]\n",
      " [   7    2    1    1    1    3  940    0    3    0]\n",
      " [   2    2    7    3    0    0    0 1002    3    9]\n",
      " [   2    0    3   14    2    2    1    2  941    7]\n",
      " [   4    2    0    6    5    2    0    4    1  985]]\n"
     ]
    }
   ],
   "source": [
    "from sklearn.metrics import confusion_matrix\n",
    "import numpy as np\n",
    "\n",
    "# Convert one-hot encoded labels back to integers\n",
    "y_true = np.argmax(y_test, axis=1)\n",
    "y_pred = np.argmax(predictions, axis=1)\n",
    "\n",
    "# Create confusion matrix\n",
    "cm = confusion_matrix(y_true, y_pred)\n",
    "print(cm)"
   ]
  },
  {
   "cell_type": "code",
   "execution_count": 14,
   "metadata": {
    "colab": {
     "base_uri": "https://localhost:8080/"
    },
    "id": "qZpz4zzHxN0w",
    "outputId": "0b46fc76-3a62-41df-d108-33b9be3af5d5"
   },
   "outputs": [
    {
     "name": "stdout",
     "output_type": "stream",
     "text": [
      "Epoch 1/5\n",
      "1688/1688 [==============================] - 4s 2ms/step - loss: 0.2722 - accuracy: 0.9222 - val_loss: 0.1248 - val_accuracy: 0.9668\n",
      "Epoch 2/5\n",
      "1688/1688 [==============================] - 3s 2ms/step - loss: 0.1176 - accuracy: 0.9653 - val_loss: 0.0953 - val_accuracy: 0.9733\n",
      "Epoch 3/5\n",
      "1688/1688 [==============================] - 3s 2ms/step - loss: 0.0803 - accuracy: 0.9753 - val_loss: 0.0847 - val_accuracy: 0.9752\n",
      "Epoch 4/5\n",
      "1688/1688 [==============================] - 3s 2ms/step - loss: 0.0592 - accuracy: 0.9816 - val_loss: 0.0783 - val_accuracy: 0.9758\n",
      "Epoch 5/5\n",
      "1688/1688 [==============================] - 3s 2ms/step - loss: 0.0466 - accuracy: 0.9855 - val_loss: 0.0819 - val_accuracy: 0.9763\n",
      "313/313 [==============================] - 0s 999us/step\n",
      "1875/1875 [==============================] - 2s 1ms/step\n",
      "313/313 [==============================] - 0s 1ms/step - loss: 0.0826 - accuracy: 0.9756\n",
      "Test accuracy: 97.56%\n",
      "Test Confusion Matrix:\n",
      "[[ 973    0    2    2    0    1    0    0    1    1]\n",
      " [   0 1125    3    2    0    1    2    0    2    0]\n",
      " [   3    0 1014    2    2    0    1    6    4    0]\n",
      " [   0    0   10  986    1    2    0    0    7    4]\n",
      " [   0    0    1    0  972    0    1    0    0    8]\n",
      " [   4    0    0   15    4  856    3    1    8    1]\n",
      " [   7    2    1    1    4    5  935    0    3    0]\n",
      " [   0    5    8    4    5    0    0  992    3   11]\n",
      " [   5    0    7    8    7    4    1    4  936    2]\n",
      " [   4    5    0    7   22    1    0    2    1  967]]\n",
      "\n",
      "Test Classification Report:\n",
      "              precision    recall  f1-score   support\n",
      "\n",
      "           0       0.98      0.99      0.98       980\n",
      "           1       0.99      0.99      0.99      1135\n",
      "           2       0.97      0.98      0.98      1032\n",
      "           3       0.96      0.98      0.97      1010\n",
      "           4       0.96      0.99      0.97       982\n",
      "           5       0.98      0.96      0.97       892\n",
      "           6       0.99      0.98      0.98       958\n",
      "           7       0.99      0.96      0.98      1028\n",
      "           8       0.97      0.96      0.97       974\n",
      "           9       0.97      0.96      0.97      1009\n",
      "\n",
      "    accuracy                           0.98     10000\n",
      "   macro avg       0.98      0.98      0.98     10000\n",
      "weighted avg       0.98      0.98      0.98     10000\n",
      "\n",
      "1875/1875 [==============================] - 2s 1ms/step - loss: 0.0414 - accuracy: 0.9877\n",
      "\n",
      "Train accuracy: 98.77%\n",
      "Train Confusion Matrix:\n",
      "[[5907    0    7    1    1    0    0    2    2    3]\n",
      " [   1 6688   21    9    5    1    1    6    7    3]\n",
      " [  10    3 5910    6    6    1    0   12    7    3]\n",
      " [   2    1   25 6065    1    9    0    2   17    9]\n",
      " [   0    6    2    0 5820    0    1    1    0   12]\n",
      " [   7    0    7   54    8 5287    9    2   25   22]\n",
      " [  25    5   11    1   11    5 5849    0   11    0]\n",
      " [   0    8   16   14   23    0    0 6145    2   57]\n",
      " [  16   22    8   19    9    7    1    2 5758    9]\n",
      " [   5    2    1    8   91    3    0    4    2 5833]]\n",
      "\n",
      "Train Classification Report:\n",
      "              precision    recall  f1-score   support\n",
      "\n",
      "           0       0.99      1.00      0.99      5923\n",
      "           1       0.99      0.99      0.99      6742\n",
      "           2       0.98      0.99      0.99      5958\n",
      "           3       0.98      0.99      0.99      6131\n",
      "           4       0.97      1.00      0.99      5842\n",
      "           5       1.00      0.98      0.99      5421\n",
      "           6       1.00      0.99      0.99      5918\n",
      "           7       0.99      0.98      0.99      6265\n",
      "           8       0.99      0.98      0.99      5851\n",
      "           9       0.98      0.98      0.98      5949\n",
      "\n",
      "    accuracy                           0.99     60000\n",
      "   macro avg       0.99      0.99      0.99     60000\n",
      "weighted avg       0.99      0.99      0.99     60000\n",
      "\n"
     ]
    }
   ],
   "source": [
    "import tensorflow as tf\n",
    "from tensorflow.keras.datasets import mnist\n",
    "from tensorflow.keras.models import Sequential\n",
    "from tensorflow.keras.layers import Dense, Flatten\n",
    "from tensorflow.keras.utils import to_categorical\n",
    "from sklearn.metrics import confusion_matrix, classification_report\n",
    "\n",
    "# Load MNIST dataset\n",
    "(x_train, y_train), (x_test, y_test) = mnist.load_data()\n",
    "\n",
    "# Normalize the pixel values to be between 0 and 1\n",
    "x_train = x_train / 255.0\n",
    "x_test = x_test / 255.0\n",
    "\n",
    "# Flatten the images to a 1D array\n",
    "x_train_flat = x_train.reshape((x_train.shape[0], -1))\n",
    "x_test_flat = x_test.reshape((x_test.shape[0], -1))\n",
    "\n",
    "# Convert class vectors to binary class matrices (one-hot encoding)\n",
    "y_train_cat = to_categorical(y_train)\n",
    "y_test_cat = to_categorical(y_test)\n",
    "\n",
    "# Define the neural network model\n",
    "model = Sequential([\n",
    "    Flatten(input_shape=(28, 28)),  # Input layer: Flatten the 28x28 images\n",
    "    Dense(128, activation='relu'),  # Hidden layer with 128 neurons and ReLU activation\n",
    "    Dense(10, activation='softmax')  # Output layer with 10 neurons (for 10 classes) and softmax activation\n",
    "])\n",
    "\n",
    "# Compile the model\n",
    "model.compile(optimizer='adam', loss='categorical_crossentropy', metrics=['accuracy'])\n",
    "\n",
    "# Train the model\n",
    "model.fit(x_train, y_train_cat, epochs=5, batch_size=32, validation_split=0.1)\n",
    "\n",
    "# Predictions on test and train data\n",
    "y_pred_test = model.predict(x_test)\n",
    "y_pred_train = model.predict(x_train)\n",
    "\n",
    "# Evaluation metrics and confusion matrix for test data\n",
    "test_loss, test_accuracy = model.evaluate(x_test, y_test_cat)\n",
    "print(f\"Test accuracy: {test_accuracy * 100:.2f}%\")\n",
    "\n",
    "y_pred_test_classes = tf.argmax(y_pred_test, axis=1)\n",
    "y_test_classes = tf.argmax(y_test_cat, axis=1)\n",
    "\n",
    "print(\"Test Confusion Matrix:\")\n",
    "print(confusion_matrix(y_test_classes, y_pred_test_classes))\n",
    "print(\"\\nTest Classification Report:\")\n",
    "print(classification_report(y_test_classes, y_pred_test_classes))\n",
    "\n",
    "# Evaluation metrics and confusion matrix for train data\n",
    "train_loss, train_accuracy = model.evaluate(x_train, y_train_cat)\n",
    "print(f\"\\nTrain accuracy: {train_accuracy * 100:.2f}%\")\n",
    "\n",
    "y_pred_train_classes = tf.argmax(y_pred_train, axis=1)\n",
    "y_train_classes = tf.argmax(y_train_cat, axis=1)\n",
    "\n",
    "print(\"Train Confusion Matrix:\")\n",
    "print(confusion_matrix(y_train_classes, y_pred_train_classes))\n",
    "print(\"\\nTrain Classification Report:\")\n",
    "print(classification_report(y_train_classes, y_pred_train_classes))\n"
   ]
  },
  {
   "cell_type": "code",
   "execution_count": 15,
   "metadata": {
    "id": "wNwSR4LPlo3F"
   },
   "outputs": [],
   "source": [
    "model.save('mnist_model.keras')"
   ]
  },
  {
   "cell_type": "markdown",
   "metadata": {},
   "source": [
    "<h1> <center>Gradio </center></h1>"
   ]
  },
  {
   "cell_type": "code",
   "execution_count": 16,
   "metadata": {
    "colab": {
     "base_uri": "https://localhost:8080/",
     "height": 511
    },
    "id": "OpiO8k8Ul2r8",
    "outputId": "23f0f2f7-8a36-4195-ecfb-2610fdc04719"
   },
   "outputs": [
    {
     "name": "stderr",
     "output_type": "stream",
     "text": [
      "C:\\Users\\anoop\\AppData\\Local\\Packages\\PythonSoftwareFoundation.Python.3.11_qbz5n2kfra8p0\\LocalCache\\local-packages\\Python311\\site-packages\\tqdm\\auto.py:21: TqdmWarning: IProgress not found. Please update jupyter and ipywidgets. See https://ipywidgets.readthedocs.io/en/stable/user_install.html\n",
      "  from .autonotebook import tqdm as notebook_tqdm\n"
     ]
    }
   ],
   "source": [
    "import gradio as gr\n",
    "import numpy as np\n",
    "from keras.models import load_model\n",
    "from PIL import Image\n",
    "import webbrowser"
   ]
  },
  {
   "cell_type": "code",
   "execution_count": 17,
   "metadata": {
    "id": "R78so5JmmI7V"
   },
   "outputs": [],
   "source": [
    "model = load_model('mnist_model.keras') "
   ]
  },
  {
   "cell_type": "code",
   "execution_count": 18,
   "metadata": {},
   "outputs": [],
   "source": [
    "def predict_digit(image):\n",
    "    # Convert Gradio Image to NumPy array\n",
    "    img_array = np.array(image)\n",
    "    \n",
    "    # Convert to grayscale and resize to 28x28 (MNIST model input size)\n",
    "    img = Image.fromarray(img_array).convert('L').resize((28, 28))\n",
    "    \n",
    "    # Convert to NumPy array and normalize\n",
    "    img = np.array(img).astype('float32') / 255.0\n",
    "    \n",
    "    # Reshape to match the model input shape\n",
    "    img = img.reshape((1, 28, 28, 1))\n",
    "    \n",
    "    # Make the prediction\n",
    "    prediction = model.predict(img)\n",
    "    \n",
    "    # Get the predicted digit\n",
    "    predicted_digit = np.argmax(prediction)\n",
    "\n",
    "    return str(predicted_digit)"
   ]
  },
  {
   "cell_type": "code",
   "execution_count": 19,
   "metadata": {},
   "outputs": [],
   "source": [
    "iface = gr.Interface(\n",
    "    fn=predict_digit,\n",
    "    inputs=gr.Image(type=\"pil\", height=280, width=280, label=\"Draw a digit\"),\n",
    "    outputs=\"text\")"
   ]
  },
  {
   "cell_type": "code",
   "execution_count": 20,
   "metadata": {},
   "outputs": [
    {
     "name": "stdout",
     "output_type": "stream",
     "text": [
      "Running on local URL:  http://127.0.0.1:7860\n",
      "\n",
      "To create a public link, set `share=True` in `launch()`.\n"
     ]
    },
    {
     "data": {
      "text/html": [
       "<div><iframe src=\"http://127.0.0.1:7860/\" width=\"100%\" height=\"500\" allow=\"autoplay; camera; microphone; clipboard-read; clipboard-write;\" frameborder=\"0\" allowfullscreen></iframe></div>"
      ],
      "text/plain": [
       "<IPython.core.display.HTML object>"
      ]
     },
     "metadata": {},
     "output_type": "display_data"
    },
    {
     "data": {
      "text/plain": []
     },
     "execution_count": 20,
     "metadata": {},
     "output_type": "execute_result"
    }
   ],
   "source": [
    "iface.launch()"
   ]
  },
  {
   "cell_type": "code",
   "execution_count": 21,
   "metadata": {},
   "outputs": [
    {
     "data": {
      "text/plain": [
       "True"
      ]
     },
     "execution_count": 21,
     "metadata": {},
     "output_type": "execute_result"
    }
   ],
   "source": [
    "\n",
    "\n",
    "webbrowser.open('http://127.0.0.1:7860')\n"
   ]
  },
  {
   "cell_type": "markdown",
   "metadata": {},
   "source": [
    "<h1><center> Streamlit </center></h1>"
   ]
  },
  {
   "cell_type": "code",
   "execution_count": 22,
   "metadata": {},
   "outputs": [
    {
     "name": "stdout",
     "output_type": "stream",
     "text": [
      "Writing streamlit_app.py\n"
     ]
    }
   ],
   "source": [
    "%%writefile streamlit_app.py\n",
    "\n",
    "import streamlit as st\n",
    "from PIL import Image\n",
    "import numpy as np\n",
    "from tensorflow.keras.models import load_model\n",
    "\n",
    "# Assuming you have a model loaded, replace this with your actual model\n",
    "model = load_model('mnist_model.keras')\n",
    "\n",
    "def mnist_digit_classification_app():\n",
    "    st.title(\"MNIST Digit Classification App\")\n",
    "    uploaded_file = st.file_uploader(\"Choose a digit image...\", type=\"jpg\", key=\"file\")\n",
    "\n",
    "    if uploaded_file is not None:\n",
    "        # Display the uploaded image\n",
    "        st.image(uploaded_file, caption=\"Uploaded Image.\", use_column_width=True)\n",
    "\n",
    "        # Preprocess the image for the model\n",
    "        img = Image.open(uploaded_file)\n",
    "        img = img.resize((28, 28))\n",
    "        img = np.array(img)\n",
    "        img = img.reshape((1, 28, 28, 1)).astype('float32') / 255.0\n",
    "\n",
    "        # Make prediction\n",
    "        prediction = model.predict(img)\n",
    "        predicted_class = np.argmax(prediction)\n",
    "\n",
    "        st.write(\"\")\n",
    "        st.write(\"Classifying...\")\n",
    "\n",
    "        # Display the predicted digit and confidence\n",
    "        st.write(f\"Predicted Digit: {predicted_class}\")\n",
    "        st.write(f\"Confidence: {prediction[0][predicted_class]:.2%}\")\n",
    "        \n",
    "mnist_digit_classification_app()"
   ]
  },
  {
   "cell_type": "code",
   "execution_count": 23,
   "metadata": {},
   "outputs": [
    {
     "name": "stdout",
     "output_type": "stream",
     "text": [
      "1/1 [==============================] - 0s 117ms/step\n",
      "^C\n"
     ]
    }
   ],
   "source": [
    "!streamlit run streamlit_app.py"
   ]
  },
  {
   "cell_type": "markdown",
   "metadata": {},
   "source": [
    "Execute the command streamlit run streamlit_app.py from cmd to launch app."
   ]
  },
  {
   "cell_type": "markdown",
   "metadata": {},
   "source": [
    "<h1><center>Flask</center></h1>"
   ]
  },
  {
   "cell_type": "code",
   "execution_count": null,
   "metadata": {},
   "outputs": [],
   "source": [
    "import os\n",
    "import flask\n",
    "from flask import Flask, render_template, request, jsonify\n",
    "import numpy as np\n",
    "from keras.models import load_model\n",
    "from keras.preprocessing import image\n",
    "from io import BytesIO\n",
    "import base64\n",
    "\n",
    "# Create the 'templates' directory if it doesn't exist\n",
    "directory_path = 'templates'\n",
    "if not os.path.exists(directory_path):\n",
    "    os.makedirs(directory_path)\n",
    "\n",
    "# Write the 'index.html' file within the 'templates' directory\n",
    "with open(os.path.join(directory_path, 'index.html'), 'w') as file:\n",
    "    file.write(\"\"\"\n",
    "<!DOCTYPE html>\n",
    "<html lang=\"en\">\n",
    "<head>\n",
    "    <meta charset=\"UTF-8\">\n",
    "    <meta name=\"viewport\" content=\"width=device-width, initial-scale=1.0\">\n",
    "    <title>MNIST Digit Recognition</title>\n",
    "    <style>\n",
    "        body {\n",
    "            font-family: 'Arial', sans-serif;\n",
    "            background: url('https://codetheweb.blog/assets/img/posts/css-advanced-background-images/cover.jpg');\n",
    "            margin: 0;\n",
    "            display: flex;\n",
    "            flex-direction: column;\n",
    "            align-items: center;\n",
    "            justify-content: center;\n",
    "            height: 100vh;\n",
    "        }\n",
    "        \n",
    "        h1 {\n",
    "            color: #333;\n",
    "            font-size: 40px;\n",
    "            text-align: center;\n",
    "            font-weight: 1000;\n",
    "            margin-bottom: auto;\n",
    "        }\n",
    "        \n",
    "        #canvas {\n",
    "            border: 15px solid #333;\n",
    "            background-color: #000000;\n",
    "            cursor: pointer;\n",
    "            margin: 20px 100;\n",
    "        }\n",
    "        \n",
    "        button {\n",
    "            padding: 15px 50px;\n",
    "            font-size: 20px;\n",
    "            background-color: #182b98;\n",
    "            color: #fff;\n",
    "            border: none;\n",
    "            cursor: pointer;\n",
    "            border-radius: 8px;\n",
    "            margin-top: 30px;\n",
    "        }\n",
    "        \n",
    "        button:hover {\n",
    "            background-color: #45a049;\n",
    "        }\n",
    "        \n",
    "        #prediction-result {\n",
    "            margin-top: 20px;\n",
    "            font-size: 30px;\n",
    "            color: #4cd50c;\n",
    "            border: 10px solid #333;\n",
    "            background-color: #334;\n",
    "            border-radius: 15px;\n",
    "        }\n",
    "        \n",
    "        section { \n",
    "            margin: auto;\n",
    "        }\n",
    "    </style>\n",
    "\n",
    "</head>\n",
    "<body>\n",
    "    <section>\n",
    "        <h1>MNIST Digit Recognition</h1>\n",
    "    </section>\n",
    "    <section>\n",
    "        <canvas id=\"canvas\" width=\"280\" height=\"280\"></canvas>\n",
    "    </section>\n",
    "    <section>\n",
    "        <form id=\"prediction-form\">\n",
    "            <button type=\"button\" onclick=\"predictDigit()\">Predict</button>\n",
    "        </form>\n",
    "    </section>\n",
    "    <section>\n",
    "        <div id=\"prediction-result\"></div>\n",
    "    </section>\n",
    "\n",
    "    <script>\n",
    "        var canvas = document.getElementById(\"canvas\");\n",
    "        var ctx = canvas.getContext(\"2d\");\n",
    "        var drawing = false;\n",
    "\n",
    "        // Set white color for drawing\n",
    "        ctx.strokeStyle = \"#fff\";\n",
    "        ctx.fillStyle = \"#fff\";\n",
    "\n",
    "        canvas.addEventListener(\"mousedown\", function (e) {\n",
    "            drawing = true;\n",
    "            ctx.lineWidth = 18;\n",
    "            ctx.lineCap = \"round\";\n",
    "            ctx.beginPath();\n",
    "            ctx.moveTo(e.clientX - canvas.offsetLeft, e.clientY - canvas.offsetTop);\n",
    "        });\n",
    "\n",
    "        canvas.addEventListener(\"mousemove\", function (e) {\n",
    "            if (!drawing) return;\n",
    "            ctx.lineTo(e.clientX - canvas.offsetLeft, e.clientY - canvas.offsetTop);\n",
    "            ctx.stroke();\n",
    "        });\n",
    "\n",
    "        canvas.addEventListener(\"mouseup\", function () {\n",
    "            drawing = false;\n",
    "        });\n",
    "\n",
    "        function predictDigit() {\n",
    "            var smallCanvas = document.createElement(\"canvas\");\n",
    "            var smallCtx = smallCanvas.getContext(\"2d\");\n",
    "            smallCanvas.width = 28;\n",
    "            smallCanvas.height = 28;\n",
    "            smallCtx.drawImage(canvas, 0, 0, 28, 28);\n",
    "        \n",
    "            var dataURL = smallCanvas.toDataURL();\n",
    "            var formData = new FormData();\n",
    "            formData.append(\"image\", dataURL);\n",
    "        \n",
    "            // Clear the canvas\n",
    "            clearCanvas();\n",
    "        \n",
    "            fetch(\"/predict\", {\n",
    "                method: \"POST\",\n",
    "                body: formData\n",
    "            })\n",
    "            .then(response => response.json())\n",
    "            .then(data => {\n",
    "                console.log(data); // Log the response for debugging\n",
    "                if (data.result !== undefined) {\n",
    "                    document.getElementById(\"prediction-result\").innerText = \"Predicted Digit: \" + data.result;\n",
    "                } else {\n",
    "                    document.getElementById(\"prediction-result\").innerText = \"Prediction failed. Please try again.\";\n",
    "                }\n",
    "            })\n",
    "            .catch(error => {\n",
    "                console.error(\"Error:\", error);\n",
    "                document.getElementById(\"prediction-result\").innerText = \"Error occurred during prediction.\";\n",
    "            });\n",
    "        }\n",
    "\n",
    "        // Function to clear the canvas\n",
    "        function clearCanvas() {\n",
    "            ctx.clearRect(0, 0, canvas.width, canvas.height);\n",
    "        }\n",
    "    </script>\n",
    "</body>\n",
    "</html>\n",
    "\"\"\")\n"
   ]
  },
  {
   "cell_type": "code",
   "execution_count": 32,
   "metadata": {},
   "outputs": [
    {
     "name": "stdout",
     "output_type": "stream",
     "text": [
      "Overwriting app.py\n"
     ]
    }
   ],
   "source": [
    "%%writefile app.py\n",
    "\n",
    "from flask import Flask, render_template, request, jsonify\n",
    "import numpy as np\n",
    "from keras.models import load_model\n",
    "from keras.preprocessing import image\n",
    "from io import BytesIO\n",
    "import base64\n",
    "\n",
    "app = Flask(__name__)\n",
    "\n",
    "# Load the pre-trained model\n",
    "model = load_model('mnist_model.keras')\n",
    "\n",
    "@app.route('/')\n",
    "def home():\n",
    "    return render_template('index.html')\n",
    "\n",
    "@app.route('/predict', methods=['POST'])\n",
    "def predict():\n",
    "    try:\n",
    "        # Get the image data from the request\n",
    "        data_url = request.form['image']\n",
    "        header, encoded = data_url.split(\",\", 1)\n",
    "        image_data = BytesIO(base64.b64decode(encoded))\n",
    "\n",
    "        # Read the image\n",
    "        img = image.load_img(image_data, target_size=(28, 28), color_mode=\"grayscale\")\n",
    "\n",
    "        # Convert the image to a numpy array\n",
    "        img_array = image.img_to_array(img)\n",
    "        img_array = np.expand_dims(img_array, axis=0) / 255.0  \n",
    "\n",
    "        # Make a prediction\n",
    "        prediction = model.predict(img_array)\n",
    "\n",
    "        # Get the predicted digit\n",
    "        predicted_digit = np.argmax(prediction)\n",
    "\n",
    "        return jsonify({'result': str(predicted_digit)})\n",
    "    \n",
    "    except Exception as e:\n",
    "        print(\"Error:\", str(e))\n",
    "        return jsonify({'error': str(e)})\n",
    "\n",
    "\n",
    "\n",
    "if __name__ == '__main__':\n",
    "    app.run(debug=True)\n",
    "\n"
   ]
  },
  {
   "cell_type": "markdown",
   "metadata": {},
   "source": [
    "run  python Flask.py in cmd to execute."
   ]
  },
  {
   "cell_type": "code",
   "execution_count": 33,
   "metadata": {},
   "outputs": [],
   "source": [
    "!python app.py"
   ]
  }
 ],
 "metadata": {
  "colab": {
   "provenance": []
  },
  "kernelspec": {
   "display_name": "Python 3 (ipykernel)",
   "language": "python",
   "name": "python3"
  },
  "language_info": {
   "codemirror_mode": {
    "name": "ipython",
    "version": 3
   },
   "file_extension": ".py",
   "mimetype": "text/x-python",
   "name": "python",
   "nbconvert_exporter": "python",
   "pygments_lexer": "ipython3",
   "version": "3.11.6"
  }
 },
 "nbformat": 4,
 "nbformat_minor": 4
}
